{
  "nbformat": 4,
  "nbformat_minor": 0,
  "metadata": {
    "colab": {
      "name": "Parse_Citations",
      "provenance": [],
      "collapsed_sections": []
    },
    "kernelspec": {
      "name": "python3",
      "display_name": "Python 3"
    }
  },
  "cells": [
    {
      "cell_type": "code",
      "metadata": {
        "id": "XAisEdSJoTHg",
        "colab_type": "code",
        "colab": {}
      },
      "source": [
        "import pandas as pd\n",
        "from bs4 import BeautifulSoup\n",
        "from crossref.restful import Works\n",
        "from habanero import Crossref\n",
        "from google.colab import files\n",
        "from google.colab import drive"
      ],
      "execution_count": null,
      "outputs": []
    },
    {
      "cell_type": "code",
      "metadata": {
        "id": "PRIBhyy8orov",
        "colab_type": "code",
        "colab": {}
      },
      "source": [
        "table = pd.read_excel('/Table-Citations-xl.xlsx')"
      ],
      "execution_count": null,
      "outputs": []
    },
    {
      "cell_type": "code",
      "metadata": {
        "id": "0K8-Qb-ko63c",
        "colab_type": "code",
        "colab": {}
      },
      "source": [
        "titles = []\n",
        "errors = []\n",
        "DOI = []\n",
        "i = 0\n",
        "while(i < len(table)):\n",
        "    print(i)\n",
        "    soup = BeautifulSoup(table['Table-Citation'][i], 'html5lib')\n",
        "    if(soup.find(\"small\", {\"class\":\"references\"}) == None or soup.find(\"small\", {\"class\":\"references\"}) == ''):\n",
        "        errors.append(i)\n",
        "        titles.append(\"Error\")\n",
        "        DOI.append(\"Error\")\n",
        "        print(DOI[i])\n",
        "        i = i + 1\n",
        "        continue\n",
        "    \n",
        "    source = soup.find(\"small\", {\"class\":\"references\"}).get_text()\n",
        "\n",
        "\n",
        "    elif('[1]' in source and '[2]' not in source):\n",
        "        reduced = source.replace('[1]','').strip()\n",
        "        source = reduced\n",
        "    elif('[2]' in source and '[1]' not in source):\n",
        "        reduced = source.replace('[2]','').strip()\n",
        "        source = reduced\n",
        "    elif('[3]' in source and '[1]' not in source):\n",
        "        reduced = source.replace('[3]','').strip()\n",
        "        source = reduced   \n",
        "    elif('[4]' in source and '[1]' not in source):\n",
        "        reduced = source.replace('[4]','').strip()\n",
        "        source = reduced\n",
        "    elif('[5]' in source and '[1]' not in source):\n",
        "        reduced = source.replace('[5]','').strip()\n",
        "        source = reduced\n",
        "    elif('[6]' in source and '[1]' not in source):\n",
        "        reduced = source.replace('[6]','').strip()\n",
        "        source = reduced\n",
        "    elif('[7]' in source and '[1]' not in source):\n",
        "        reduced = source.replace('[7]','').strip()\n",
        "        source = reduced          \n",
        "\n",
        "    if('1' in source):\n",
        "      reduced = source.replace('1','').strip()\n",
        "      source = reduced\n",
        "    if('2' in source):\n",
        "      reduced = source.replace('1','').strip()\n",
        "      source = reduced\n",
        "    if(\"\\n\" in source):\n",
        "      reduced = source.replace(\"\\n\", \" \")\n",
        "      source = reduced\n",
        "    if(\"  \" in source):\n",
        "      reduced = source.replace(\"  \", \" \")\n",
        "      source = reduced\n",
        "\n",
        "\n",
        "    titles.append(source)\n",
        "    cr = Crossref()\n",
        "    x = cr.works(query = source, limit = 1)\n",
        "    DOI.append([ z['DOI'] for z in x['message']['items'] ][0])\n",
        "    print(DOI[i])\n",
        "    i = i + 1"
      ],
      "execution_count": null,
      "outputs": []
    },
    {
      "cell_type": "code",
      "metadata": {
        "id": "mNhRp-sdxjb0",
        "colab_type": "code",
        "colab": {}
      },
      "source": [
        "pdfs = []\n",
        "j = 0\n",
        "for i in DOI:\n",
        "  if(i == \"Error\"):\n",
        "    pdfs.append(\"Error\")\n",
        "    print(str(j) + '\\n' + i)\n",
        "    continue\n",
        "  pdfs.append('https://sci-hub.tw/' + i)\n",
        "  print(str(j) + '\\n' + 'https://sci-hub.tw/' + i)\n",
        "  j = j + 1"
      ],
      "execution_count": null,
      "outputs": []
    },
    {
      "cell_type": "code",
      "metadata": {
        "id": "3io47aMV8WLm",
        "colab_type": "code",
        "colab": {}
      },
      "source": [
        "d = {'Table Links': table['post-link-href'], 'Tables as HTML': table['Table-Citation'], 'PDF': pdfs}\n",
        "df = pd.DataFrame(data=d)\n",
        "df"
      ],
      "execution_count": null,
      "outputs": []
    },
    {
      "cell_type": "code",
      "metadata": {
        "id": "jWHC-mZqDG9A",
        "colab_type": "code",
        "colab": {
          "base_uri": "https://localhost:8080/",
          "height": 34
        },
        "outputId": "336fae9f-bc98-4ee6-8780-8f3ed3410877"
      },
      "source": [
        "drive.mount('drive')\n",
        "df.to_excel('data.xls')\n",
        "!cp data.xls \"drive/My Drive/\""
      ],
      "execution_count": null,
      "outputs": [
        {
          "output_type": "stream",
          "text": [
            "Drive already mounted at drive; to attempt to forcibly remount, call drive.mount(\"drive\", force_remount=True).\n"
          ],
          "name": "stdout"
        }
      ]
    },
    {
      "cell_type": "code",
      "metadata": {
        "id": "XkWDw589BzbD",
        "colab_type": "code",
        "colab": {}
      },
      "source": [
        ""
      ],
      "execution_count": null,
      "outputs": []
    }
  ]
}