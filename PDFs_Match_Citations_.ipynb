{
  "nbformat": 4,
  "nbformat_minor": 0,
  "metadata": {
    "colab": {
      "name": "PDFs Match Citations?",
      "provenance": [],
      "collapsed_sections": []
    },
    "kernelspec": {
      "name": "python3",
      "display_name": "Python 3"
    }
  },
  "cells": [
    {
      "cell_type": "code",
      "metadata": {
        "id": "fpv3qeFsTcYQ",
        "colab_type": "code",
        "colab": {}
      },
      "source": [
        "from bs4 import BeautifulSoup\n",
        "import pandas as pd\n",
        "import requests\n",
        "import pdfx\n",
        "from PyPDF2 import PdfFileReader\n",
        "from urllib.request import urlretrieve\n",
        "from difflib import SequenceMatcher\n"
      ],
      "execution_count": null,
      "outputs": []
    },
    {
      "cell_type": "code",
      "metadata": {
        "id": "HkeztVA2Tki9",
        "colab_type": "code",
        "colab": {}
      },
      "source": [
        "table = pd.read_excel('InPharmD_ML_DATASET.xlsx')"
      ],
      "execution_count": null,
      "outputs": []
    },
    {
      "cell_type": "code",
      "metadata": {
        "id": "nh3fM_0VZD4C",
        "colab_type": "code",
        "colab": {}
      },
      "source": [
        "table = table[:20]"
      ],
      "execution_count": null,
      "outputs": []
    },
    {
      "cell_type": "markdown",
      "metadata": {
        "id": "hL5fdYr8T_g2",
        "colab_type": "text"
      },
      "source": [
        "**Scrape Titles From PDF**"
      ]
    },
    {
      "cell_type": "code",
      "metadata": {
        "id": "Fu_XxX9ajpIb",
        "colab_type": "code",
        "colab": {}
      },
      "source": [
        "def get_title(path):\n",
        "    with open(path, 'rb') as f:\n",
        "        pdf = PdfFileReader(f)\n",
        "        info = pdf.getDocumentInfo()\n",
        "    return info.title\n",
        "\n",
        "def download_file(download_url, fileNo):\n",
        "    urlretrieve(download_url, '/Data/file' + str(fileNo))"
      ],
      "execution_count": null,
      "outputs": []
    },
    {
      "cell_type": "markdown",
      "metadata": {
        "id": "kp8LLidNxZSj",
        "colab_type": "text"
      },
      "source": [
        "1. Get PDF source links:"
      ]
    },
    {
      "cell_type": "code",
      "metadata": {
        "id": "RzR8j_QPVb1F",
        "colab_type": "code",
        "colab": {}
      },
      "source": [
        "download_links = []"
      ],
      "execution_count": null,
      "outputs": []
    },
    {
      "cell_type": "code",
      "metadata": {
        "id": "nF8O4abHM1QC",
        "colab_type": "code",
        "colab": {}
      },
      "source": [
        "index = 0;\n",
        "while index < len(table):\n",
        "  print(index)\n",
        "  url = requests.get(table['PDF'][index]).text\n",
        "  \n",
        "  try:\n",
        "    soup = BeautifulSoup(url, 'html.parser')\n",
        "    src = soup.find('iframe')['src']\n",
        "    if src.startswith('//'):\n",
        "      download_links.append('https:' + src)\n",
        "      print(\"added http: to \" + download_links[index])\n",
        "    else:\n",
        "      download_links.append(src)\n",
        "      print(\"normal sci-hub: \" + download_links[index])\n",
        "    index = index + 1\n",
        "    continue  \n",
        "\n",
        "  except:\n",
        "    if 'pdf' in table['PDF'][index]:\n",
        "      download_links.append(table['PDF'][index])\n",
        "      print(\"non-scihub PDF: \" + download_links[index])\n",
        "      index = index + 1\n",
        "      continue\n",
        "    download_links.append(\"Must check manually!\")\n",
        "    print(download_links[index])\n",
        "    index = index + 1\n",
        "    continue"
      ],
      "execution_count": null,
      "outputs": []
    },
    {
      "cell_type": "code",
      "metadata": {
        "id": "K0a5PW1SU6OF",
        "colab_type": "code",
        "colab": {}
      },
      "source": [
        "table['DownloadLinks'] = download_links"
      ],
      "execution_count": null,
      "outputs": []
    },
    {
      "cell_type": "markdown",
      "metadata": {
        "id": "pTjyicE9P3rP",
        "colab_type": "text"
      },
      "source": [
        "2. Download files and retrieve title:"
      ]
    },
    {
      "cell_type": "code",
      "metadata": {
        "id": "btP4FeCfahEj",
        "colab_type": "code",
        "colab": {}
      },
      "source": [
        "i = 0\n",
        "titles = []\n",
        "for link in table['Download Links']:\n",
        "  \n",
        "  try:\n",
        "    download_file(link, i)\n",
        "    file = ('/Data/file' + str(i))\n",
        "    print(file)\n",
        "    titles.append(get_title(file))\n",
        "    !rm {file}\n",
        "    \n",
        "  except:\n",
        "    titles.append('Check Manually')\n",
        "  \n",
        "  print(str(i) + \": \" + str(titles[i])) \n",
        "  i = i + 1"
      ],
      "execution_count": null,
      "outputs": []
    },
    {
      "cell_type": "code",
      "metadata": {
        "id": "Y_p-plCgeKn1",
        "colab_type": "code",
        "colab": {
          "base_uri": "https://localhost:8080/",
          "height": 34
        },
        "outputId": "d5806303-aa32-4474-adaf-7128485be660"
      },
      "source": [
        "j = 0\n",
        "success = 0;\n",
        "for t in titles:\n",
        "  if SequenceMatcher(None, str(t), table['Citation'][j]).ratio() >= .3:\n",
        "    success = success + 1\n",
        "print(success/len(table))"
      ],
      "execution_count": null,
      "outputs": [
        {
          "output_type": "stream",
          "text": [
            "0.012345679012345678\n"
          ],
          "name": "stdout"
        }
      ]
    },
    {
      "cell_type": "code",
      "metadata": {
        "id": "R8XVwLIE4n7p",
        "colab_type": "code",
        "colab": {}
      },
      "source": [
        "\n",
        "errors = []\n",
        "k = 0\n",
        "for link in table['Download Links']:\n",
        "  print(k)\n",
        "  if link == (\"Must check manually!\" or \"None\" or \"untitled\" or \"\"):\n",
        "    errors.append(k)\n",
        "  k = k + 1\n",
        "errors"
      ],
      "execution_count": null,
      "outputs": []
    },
    {
      "cell_type": "markdown",
      "metadata": {
        "id": "_nUWUDkLIVLP",
        "colab_type": "text"
      },
      "source": [
        "Fix errors in excel document manually"
      ]
    }
  ]
}